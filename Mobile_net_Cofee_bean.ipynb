{
  "cells": [
    {
      "cell_type": "markdown",
      "metadata": {
        "id": "view-in-github",
        "colab_type": "text"
      },
      "source": [
        "<a href=\"https://colab.research.google.com/github/deny-joefakri/Coffee-Classification/blob/main/Mobile_net_Cofee_bean.ipynb\" target=\"_parent\"><img src=\"https://colab.research.google.com/assets/colab-badge.svg\" alt=\"Open In Colab\"/></a>"
      ]
    },
    {
      "cell_type": "markdown",
      "metadata": {
        "id": "yBiSAwmnbBxW"
      },
      "source": [
        "# Import Lib\n"
      ]
    },
    {
      "cell_type": "code",
      "execution_count": null,
      "metadata": {
        "id": "T2cKSD9fbPZF"
      },
      "outputs": [],
      "source": [
        "import os\n",
        "\n",
        "import matplotlib.pyplot as plt\n",
        "import numpy as np\n",
        "import pandas as pd\n",
        "import tensorflow as tf\n",
        "\n",
        "from tensorflow import keras\n",
        "from tensorflow.keras.applications.vgg19 import VGG19\n",
        "from tensorflow.keras.layers import Input, Lambda, Dense, Flatten, Dropout\n",
        "from tensorflow.keras.models import Model, Sequential\n",
        "from tensorflow.keras.preprocessing.image import ImageDataGenerator"
      ]
    },
    {
      "cell_type": "code",
      "execution_count": null,
      "metadata": {
        "id": "POjsYfK8dMLS"
      },
      "outputs": [],
      "source": [
        "tf.random.set_seed(1234)"
      ]
    },
    {
      "cell_type": "code",
      "execution_count": null,
      "metadata": {
        "id": "Q4khMkW1dNH5"
      },
      "outputs": [],
      "source": [
        "image_generator = ImageDataGenerator(\n",
        "    rescale=1/255,\n",
        "    rotation_range=20,\n",
        "    zoom_range=0.15,\n",
        "    horizontal_flip=True)"
      ]
    },
    {
      "cell_type": "code",
      "execution_count": null,
      "metadata": {
        "id": "SpsXGmRQdUob"
      },
      "outputs": [],
      "source": [
        "IMG_HEIGHT = 224\n",
        "IMG_WIDTH = 224"
      ]
    },
    {
      "cell_type": "code",
      "execution_count": null,
      "metadata": {
        "colab": {
          "base_uri": "https://localhost:8080/"
        },
        "id": "VpNfnd5LhuKw",
        "outputId": "c1d5392a-9f2a-4134-b5f5-cc5f693aea9c"
      },
      "outputs": [
        {
          "output_type": "stream",
          "name": "stdout",
          "text": [
            "Mounted at /content/drive\n"
          ]
        }
      ],
      "source": [
        "from google.colab import drive  \n",
        "drive.mount('/content/drive')  "
      ]
    },
    {
      "cell_type": "code",
      "execution_count": null,
      "metadata": {
        "id": "dBC15h_UiJgw"
      },
      "outputs": [],
      "source": [
        "train_dir = '/content/drive/MyDrive/AI/datasets/train/'\n",
        "\n",
        "val_dir = '/content/drive/MyDrive/AI/datasets/val/'\n",
        "\n",
        "test_dir = '/content/drive/MyDrive/AI/datasets/test/'"
      ]
    },
    {
      "cell_type": "code",
      "execution_count": null,
      "metadata": {
        "colab": {
          "base_uri": "https://localhost:8080/"
        },
        "id": "5KJk6MYKhhmR",
        "outputId": "ced271dc-68bb-49b7-80f1-1ee0635798f7"
      },
      "outputs": [
        {
          "output_type": "stream",
          "name": "stdout",
          "text": [
            "Found 4807 images belonging to 4 classes.\n",
            "Found 1600 images belonging to 4 classes.\n",
            "Found 1600 images belonging to 4 classes.\n"
          ]
        }
      ],
      "source": [
        "training_set = image_generator.flow_from_directory(batch_size=4,\n",
        "                                                   directory=train_dir,\n",
        "                                                   shuffle=True,\n",
        "                                                   target_size=(IMG_HEIGHT, IMG_WIDTH),\n",
        "                                                   class_mode=\"categorical\")\n",
        "\n",
        "validation_set = image_generator.flow_from_directory(batch_size=4,\n",
        "                                                   directory=val_dir,\n",
        "                                                   shuffle=True,\n",
        "                                                   target_size=(IMG_HEIGHT, IMG_WIDTH),\n",
        "                                                   class_mode=\"categorical\")\n",
        "\n",
        "testing_set = image_generator.flow_from_directory(batch_size=4,\n",
        "                                                   directory=test_dir,\n",
        "                                                   shuffle=False,\n",
        "                                                   target_size=(IMG_HEIGHT, IMG_WIDTH),\n",
        "                                                   class_mode=\"categorical\")"
      ]
    },
    {
      "cell_type": "code",
      "execution_count": null,
      "metadata": {
        "colab": {
          "base_uri": "https://localhost:8080/"
        },
        "id": "lgRL7O1ZzZvT",
        "outputId": "9dd2c2ef-22a1-4f40-f88e-387802e3bbf0"
      },
      "outputs": [
        {
          "output_type": "execute_result",
          "data": {
            "text/plain": [
              "4807"
            ]
          },
          "metadata": {},
          "execution_count": 8
        }
      ],
      "source": [
        "training_set.samples"
      ]
    },
    {
      "cell_type": "code",
      "execution_count": null,
      "metadata": {
        "id": "S3lw91H8ze4O"
      },
      "outputs": [],
      "source": [
        "from tensorflow.keras.applications.mobilenet_v2 import MobileNetV2"
      ]
    },
    {
      "cell_type": "code",
      "execution_count": null,
      "metadata": {
        "colab": {
          "background_save": true
        },
        "id": "j528kQa8zkLm"
      },
      "outputs": [],
      "source": [
        "mbn_model = Sequential()\n",
        "\n",
        "pretrained_model= tf.keras.applications.MobileNetV2(include_top=False,\n",
        "                   input_shape=(224,224,3),\n",
        "                   pooling='avg',classes=4,\n",
        "                   weights='imagenet')\n",
        "\n",
        "for layer in pretrained_model.layers:\n",
        "        layer.trainable=False\n",
        "\n",
        "mbn_model.add(pretrained_model)\n",
        "mbn_model.add(Flatten())\n",
        "mbn_model.add(Dense(512, activation='relu'))\n",
        "mbn_model.add(Dense(4, activation='softmax'))"
      ]
    },
    {
      "cell_type": "code",
      "execution_count": null,
      "metadata": {
        "colab": {
          "background_save": true
        },
        "id": "RWeSmAPTzpKB"
      },
      "outputs": [],
      "source": [
        "mbn_model.compile(loss = 'categorical_crossentropy',\n",
        "              optimizer = 'adam',\n",
        "              metrics = ['accuracy'])"
      ]
    },
    {
      "cell_type": "code",
      "execution_count": null,
      "metadata": {
        "colab": {
          "background_save": true
        },
        "id": "NJawegQ_zuMA"
      },
      "outputs": [],
      "source": [
        "history_mbn = mbn_model.fit(training_set, epochs=25, validation_data=validation_set)"
      ]
    },
    {
      "cell_type": "code",
      "execution_count": null,
      "metadata": {
        "id": "7bsZaTrZPLeb"
      },
      "outputs": [],
      "source": [
        "from tensorflow.keras.applications.resnet_v2 import ResNet50V2, preprocess_input"
      ]
    },
    {
      "cell_type": "code",
      "execution_count": null,
      "metadata": {
        "colab": {
          "base_uri": "https://localhost:8080/"
        },
        "id": "IKHKIp81PToa",
        "outputId": "39789b23-9687-4856-c94f-6a2ccf79455c"
      },
      "outputs": [
        {
          "name": "stdout",
          "output_type": "stream",
          "text": [
            "Downloading data from https://storage.googleapis.com/tensorflow/keras-applications/resnet/resnet50v2_weights_tf_dim_ordering_tf_kernels_notop.h5\n",
            "94668760/94668760 [==============================] - 0s 0us/step\n"
          ]
        }
      ],
      "source": [
        "mbn_model2 = Sequential()\n",
        "\n",
        "resent_model = ResNet50V2(\n",
        "    include_top=False, \n",
        "    weights='imagenet', \n",
        "    pooling='avg',classes=4,\n",
        "    input_shape=(224,224,3))\n",
        "\n",
        "for layer in resent_model.layers:\n",
        "    layer.trainable = False\n",
        "\n",
        "mbn_model2.add(resent_model)\n",
        "mbn_model2.add(Flatten())\n",
        "mbn_model2.add(Dense(512, activation='relu'))\n",
        "mbn_model2.add(Dense(4, activation='softmax'))\n",
        "\n",
        "# x = Conv2D(128, (3, 3), activation='relu')(resent_model.output)\n",
        "# x = MaxPooling2D(pool_size=(2, 2))(x)\n",
        "# x = Flatten()(x)\n",
        "# x = Dense(100,activation='relu')(x)\n",
        "# x = Dense(6,activation='softmax')(x)\n",
        "\n",
        "# model = Model(inputs=resent_model.input, outputs=x)\n"
      ]
    },
    {
      "cell_type": "code",
      "execution_count": null,
      "metadata": {
        "id": "kVXI5hUume38"
      },
      "outputs": [],
      "source": [
        "mbn_model2.compile(loss = 'categorical_crossentropy',\n",
        "              optimizer = 'adam',\n",
        "              metrics = ['accuracy'])"
      ]
    },
    {
      "cell_type": "code",
      "execution_count": null,
      "metadata": {
        "colab": {
          "base_uri": "https://localhost:8080/"
        },
        "id": "Y_5HruGpnBjW",
        "outputId": "cc8b3890-ffdf-4d3e-e8c4-e1c0a7b48b90"
      },
      "outputs": [
        {
          "name": "stdout",
          "output_type": "stream",
          "text": [
            "Epoch 1/25\n",
            "1202/1202 [==============================] - 1139s 939ms/step - loss: 0.8236 - accuracy: 0.6890 - val_loss: 0.7330 - val_accuracy: 0.7119\n",
            "Epoch 2/25\n",
            "1202/1202 [==============================] - 94s 78ms/step - loss: 0.5817 - accuracy: 0.7799 - val_loss: 0.8892 - val_accuracy: 0.6888\n",
            "Epoch 3/25\n",
            "1202/1202 [==============================] - 93s 77ms/step - loss: 0.5407 - accuracy: 0.7893 - val_loss: 0.6549 - val_accuracy: 0.7550\n",
            "Epoch 4/25\n",
            "1202/1202 [==============================] - 93s 77ms/step - loss: 0.4823 - accuracy: 0.8161 - val_loss: 0.5798 - val_accuracy: 0.7887\n",
            "Epoch 5/25\n",
            "1202/1202 [==============================] - 91s 76ms/step - loss: 0.4366 - accuracy: 0.8321 - val_loss: 0.6260 - val_accuracy: 0.7538\n",
            "Epoch 6/25\n",
            "1202/1202 [==============================] - 92s 77ms/step - loss: 0.4120 - accuracy: 0.8436 - val_loss: 0.6442 - val_accuracy: 0.7631\n",
            "Epoch 7/25\n",
            "1202/1202 [==============================] - 92s 76ms/step - loss: 0.3928 - accuracy: 0.8513 - val_loss: 0.5085 - val_accuracy: 0.8188\n",
            "Epoch 8/25\n",
            "1202/1202 [==============================] - 91s 76ms/step - loss: 0.3914 - accuracy: 0.8546 - val_loss: 0.6182 - val_accuracy: 0.7688\n",
            "Epoch 9/25\n",
            "1202/1202 [==============================] - 92s 77ms/step - loss: 0.3664 - accuracy: 0.8606 - val_loss: 0.5681 - val_accuracy: 0.8069\n",
            "Epoch 10/25\n",
            "1202/1202 [==============================] - 91s 76ms/step - loss: 0.3487 - accuracy: 0.8664 - val_loss: 0.5290 - val_accuracy: 0.8112\n",
            "Epoch 11/25\n",
            "1202/1202 [==============================] - 92s 77ms/step - loss: 0.3440 - accuracy: 0.8706 - val_loss: 0.5811 - val_accuracy: 0.7912\n",
            "Epoch 12/25\n",
            "1202/1202 [==============================] - 91s 76ms/step - loss: 0.3346 - accuracy: 0.8756 - val_loss: 0.5670 - val_accuracy: 0.7975\n",
            "Epoch 13/25\n",
            "1202/1202 [==============================] - 92s 77ms/step - loss: 0.3227 - accuracy: 0.8796 - val_loss: 0.6390 - val_accuracy: 0.7756\n",
            "Epoch 14/25\n",
            "1202/1202 [==============================] - 91s 76ms/step - loss: 0.3060 - accuracy: 0.8806 - val_loss: 0.5687 - val_accuracy: 0.8031\n",
            "Epoch 15/25\n",
            "1202/1202 [==============================] - 92s 77ms/step - loss: 0.2876 - accuracy: 0.8924 - val_loss: 0.6201 - val_accuracy: 0.7950\n",
            "Epoch 16/25\n",
            "1202/1202 [==============================] - 92s 76ms/step - loss: 0.2865 - accuracy: 0.8933 - val_loss: 0.6071 - val_accuracy: 0.7975\n",
            "Epoch 17/25\n",
            "1202/1202 [==============================] - 93s 77ms/step - loss: 0.2709 - accuracy: 0.8981 - val_loss: 0.6620 - val_accuracy: 0.7788\n",
            "Epoch 18/25\n",
            "1202/1202 [==============================] - 91s 76ms/step - loss: 0.2861 - accuracy: 0.8974 - val_loss: 0.5565 - val_accuracy: 0.8062\n",
            "Epoch 19/25\n",
            "1202/1202 [==============================] - 92s 77ms/step - loss: 0.2713 - accuracy: 0.8983 - val_loss: 0.6413 - val_accuracy: 0.7831\n",
            "Epoch 20/25\n",
            "1202/1202 [==============================] - 91s 76ms/step - loss: 0.2645 - accuracy: 0.9024 - val_loss: 0.6193 - val_accuracy: 0.7975\n",
            "Epoch 21/25\n",
            "1202/1202 [==============================] - 92s 77ms/step - loss: 0.2528 - accuracy: 0.9070 - val_loss: 0.6544 - val_accuracy: 0.7994\n",
            "Epoch 22/25\n",
            "1202/1202 [==============================] - 91s 76ms/step - loss: 0.2314 - accuracy: 0.9126 - val_loss: 0.6342 - val_accuracy: 0.7937\n",
            "Epoch 23/25\n",
            "1202/1202 [==============================] - 93s 77ms/step - loss: 0.2411 - accuracy: 0.9081 - val_loss: 0.5837 - val_accuracy: 0.8094\n",
            "Epoch 24/25\n",
            "1202/1202 [==============================] - 91s 76ms/step - loss: 0.2349 - accuracy: 0.9099 - val_loss: 0.6688 - val_accuracy: 0.7937\n",
            "Epoch 25/25\n",
            "1202/1202 [==============================] - 92s 76ms/step - loss: 0.2320 - accuracy: 0.9120 - val_loss: 0.6454 - val_accuracy: 0.7981\n"
          ]
        }
      ],
      "source": [
        "history_mbn = mbn_model2.fit(training_set, epochs=25, validation_data=validation_set)"
      ]
    },
    {
      "cell_type": "code",
      "execution_count": null,
      "metadata": {
        "id": "VwLf6VPmi3Xk"
      },
      "outputs": [],
      "source": [
        "from keras.layers import GlobalAvgPool2D, Dense, Dropout\n",
        "from keras.callbacks import EarlyStopping, ModelCheckpoint\n",
        "from tensorflow.keras.applications import ResNet50, ResNet50V2, InceptionV3, Xception"
      ]
    },
    {
      "cell_type": "code",
      "execution_count": null,
      "metadata": {
        "colab": {
          "background_save": true,
          "base_uri": "https://localhost:8080/"
        },
        "id": "6oln9MdRhy38",
        "outputId": "0990e851-4d68-4c50-c6c9-e66d29887da3"
      },
      "outputs": [
        {
          "output_type": "stream",
          "name": "stdout",
          "text": [
            "Downloading data from https://storage.googleapis.com/tensorflow/keras-applications/resnet/resnet50v2_weights_tf_dim_ordering_tf_kernels_notop.h5\n",
            "94668760/94668760 [==============================] - 7s 0us/step\n",
            "Epoch 1/50\n",
            "  93/1202 [=>............................] - ETA: 54:45 - loss: 1.4805 - accuracy: 0.4758"
          ]
        }
      ],
      "source": [
        "# # Initialize Base Model\n",
        "name = \"ResNet50V2\"\n",
        "base_model = ResNet50V2(include_top=False, weights='imagenet', input_shape=(256,256,3))\n",
        "base_model.trainable = False\n",
        "\n",
        "# Model\n",
        "resnet_50V2 = Sequential([\n",
        "    base_model, \n",
        "    GlobalAvgPool2D(),\n",
        "    Dense(256, activation='relu'),\n",
        "    Dropout(0.2),\n",
        "    Dense(4, activation='softmax')\n",
        "])\n",
        "\n",
        "\n",
        "# # Compile\n",
        "resnet_50V2.compile(\n",
        "    loss='categorical_crossentropy',\n",
        "    optimizer='adam',\n",
        "    metrics=['accuracy']\n",
        ")\n",
        "\n",
        "# Callbacks\n",
        "cbs = [EarlyStopping(patience=3, restore_best_weights=True), ModelCheckpoint(name + \".h5\", save_best_only=True)]\n",
        "\n",
        "\n",
        "# Training\n",
        "resnet_50V2.fit(training_set, validation_data=validation_set, epochs=50, callbacks=cbs)"
      ]
    },
    {
      "cell_type": "code",
      "execution_count": null,
      "metadata": {
        "colab": {
          "base_uri": "https://localhost:8080/",
          "height": 320
        },
        "id": "My7LxTuyHSO4",
        "outputId": "4afc053d-caab-488a-9d0c-ca68d9cf66cb"
      },
      "outputs": [
        {
          "data": {
            "image/png": "[encoded data removed]",
            "text/plain": [
              "<Figure size 720x360 with 1 Axes>"
            ]
          },
          "metadata": {},
          "output_type": "display_data"
        }
      ],
      "source": [
        "pd.DataFrame(history_mbn.history).plot(figsize=(10, 5))\n",
        "plt.grid(True)\n",
        "plt.show()"
      ]
    },
    {
      "cell_type": "code",
      "execution_count": null,
      "metadata": {
        "colab": {
          "base_uri": "https://localhost:8080/"
        },
        "id": "EcpPawA4Jld_",
        "outputId": "20a6f966-d589-4ff6-cb78-d03686a9fe6d"
      },
      "outputs": [
        {
          "name": "stdout",
          "output_type": "stream",
          "text": [
            "400/400 [==============================] - 320s 801ms/step - loss: 0.6243 - accuracy: 0.8094\n"
          ]
        },
        {
          "data": {
            "text/plain": [
              "[0.6242701411247253, 0.809374988079071]"
            ]
          },
          "execution_count": 15,
          "metadata": {},
          "output_type": "execute_result"
        }
      ],
      "source": [
        "mbn_model.evaluate(testing_set)"
      ]
    },
    {
      "cell_type": "code",
      "execution_count": null,
      "metadata": {
        "colab": {
          "base_uri": "https://localhost:8080/"
        },
        "id": "WOIkXtZf7s_d",
        "outputId": "1734a196-7a41-4c39-a07d-67f3719cfbb1"
      },
      "outputs": [
        {
          "name": "stdout",
          "output_type": "stream",
          "text": [
            "400/400 [==============================] - 316s 791ms/step - loss: 0.6062 - accuracy: 0.8025\n"
          ]
        },
        {
          "data": {
            "text/plain": [
              "[0.6061659455299377, 0.8025000095367432]"
            ]
          },
          "execution_count": 14,
          "metadata": {},
          "output_type": "execute_result"
        }
      ],
      "source": [
        "mbn_model2.evaluate(testing_set)"
      ]
    },
    {
      "cell_type": "code",
      "execution_count": null,
      "metadata": {
        "colab": {
          "base_uri": "https://localhost:8080/"
        },
        "id": "CAW8AgvtJoe9",
        "outputId": "efd5aba5-908c-4c0e-a8ef-682a833e6da4"
      },
      "outputs": [
        {
          "name": "stdout",
          "output_type": "stream",
          "text": [
            "400/400 [==============================] - 22s 52ms/step\n"
          ]
        }
      ],
      "source": [
        "test_pred = np.argmax(mbn_model.predict(testing_set), axis=1)"
      ]
    },
    {
      "cell_type": "code",
      "execution_count": null,
      "metadata": {
        "id": "apptjLUSJpC1"
      },
      "outputs": [],
      "source": [
        "from sklearn.metrics import confusion_matrix"
      ]
    },
    {
      "cell_type": "code",
      "execution_count": null,
      "metadata": {
        "colab": {
          "base_uri": "https://localhost:8080/"
        },
        "id": "ui-_d64mJrKK",
        "outputId": "8a0a92af-e0f1-4cfb-eb41-2b5d6b46dab6"
      },
      "outputs": [
        {
          "name": "stdout",
          "output_type": "stream",
          "text": [
            "[[279   4  80  37]\n",
            " [  6 338  38  18]\n",
            " [  7   0 373  20]\n",
            " [ 22   7  67 304]]\n"
          ]
        }
      ],
      "source": [
        "print(confusion_matrix(testing_set.classes, test_pred))"
      ]
    }
  ],
  "metadata": {
    "accelerator": "GPU",
    "colab": {
      "provenance": [],
      "authorship_tag": "ABX9TyNnfnN6P+wfldV4hIe0Td8R",
      "include_colab_link": true
    },
    "gpuClass": "standard",
    "kernelspec": {
      "display_name": "Python 3",
      "name": "python3"
    },
    "language_info": {
      "name": "python"
    }
  },
  "nbformat": 4,
  "nbformat_minor": 0
}